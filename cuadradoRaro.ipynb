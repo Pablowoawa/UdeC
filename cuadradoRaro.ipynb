{
  "nbformat": 4,
  "nbformat_minor": 0,
  "metadata": {
    "colab": {
      "name": "cuadradoRaro",
      "provenance": []
    },
    "kernelspec": {
      "name": "python3",
      "display_name": "Python 3"
    },
    "language_info": {
      "name": "python"
    }
  },
  "cells": [
    {
      "cell_type": "code",
      "metadata": {
        "colab": {
          "base_uri": "https://localhost:8080/"
        },
        "id": "w9RCQO31Slsc",
        "outputId": "025d4bbd-209d-4c3f-96d6-0c87930a650b"
      },
      "source": [
        "import numpy as np\n",
        "\n",
        "def matriz(n):\n",
        "  M = np.zeros((n,n))\n",
        "  for i in range(n):\n",
        "    for j in range(n):\n",
        "      M[i,j] = int(input('Ingrese valores enteros correspondientes a los elementos de la matriz: '))\n",
        "  return M\n",
        "\n",
        "def etapa1(A):\n",
        "  n = len(A)\n",
        "  matriz = np.zeros(n**2)\n",
        "  for i in range(1,n**2 + 1):\n",
        "    matriz[i-1] = i**2\n",
        "\n",
        "  matriz = np.reshape(matriz,(n,n))\n",
        "\n",
        "  if matriz.all() == A.all():\n",
        "    return True\n",
        "  return False\n",
        "\n",
        "\n",
        "def etapa2(A):\n",
        "  n = len(A)\n",
        "  sumas = []\n",
        "  for i in range(n):\n",
        "    sumas.append(A[:,i].sum())\n",
        "\n",
        "  for i in range(n-1):\n",
        "    if sumas[i] <= sumas[i+1]:\n",
        "      return False,sumas\n",
        "  return True,sumas\n",
        "\n",
        "\n",
        "\n",
        "\n",
        "n = int(input('Ingrese el tamaño de la matriz: '))\n",
        "while n<3 or n>100:\n",
        "  n = int(input('Digite un valor válido: '))\n",
        "\n",
        "A = matriz(n)\n",
        "#A = np.reshape(np.arange(n**2),(n,n))\n",
        "print(A)\n",
        "if etapa1(A):\n",
        "  si, sumas = etapa2(A)\n",
        "  if si:\n",
        "    print('El cuadrado es raro y sus columnas suman', end=' ')\n",
        "    print([sumas[i] for i in range(n)])\n",
        "  else:\n",
        "    print('El cuadrado es semi raro')\n",
        "else:\n",
        "  print('No cumple nada')\n",
        "\n"
      ],
      "execution_count": 31,
      "outputs": [
        {
          "output_type": "stream",
          "text": [
            "Ingrese el tamaño de la matriz: 4\n",
            "Ingrese valores enteros correspondientes a los elementos de la matriz: 47\n",
            "Ingrese valores enteros correspondientes a los elementos de la matriz: 1\n",
            "Ingrese valores enteros correspondientes a los elementos de la matriz: 2\n",
            "Ingrese valores enteros correspondientes a los elementos de la matriz: 144\n",
            "Ingrese valores enteros correspondientes a los elementos de la matriz: 25\n",
            "Ingrese valores enteros correspondientes a los elementos de la matriz: 64\n",
            "Ingrese valores enteros correspondientes a los elementos de la matriz: 100\n",
            "Ingrese valores enteros correspondientes a los elementos de la matriz: 9\n",
            "Ingrese valores enteros correspondientes a los elementos de la matriz: 16\n",
            "Ingrese valores enteros correspondientes a los elementos de la matriz: 121\n",
            "Ingrese valores enteros correspondientes a los elementos de la matriz: 256\n",
            "Ingrese valores enteros correspondientes a los elementos de la matriz: 36\n",
            "Ingrese valores enteros correspondientes a los elementos de la matriz: 169\n",
            "Ingrese valores enteros correspondientes a los elementos de la matriz: 196\n",
            "Ingrese valores enteros correspondientes a los elementos de la matriz: 81\n",
            "Ingrese valores enteros correspondientes a los elementos de la matriz: 225\n",
            "[[ 47.   1.   2. 144.]\n",
            " [ 25.  64. 100.   9.]\n",
            " [ 16. 121. 256.  36.]\n",
            " [169. 196.  81. 225.]]\n",
            "El cuadrado es semi raro\n"
          ],
          "name": "stdout"
        }
      ]
    },
    {
      "cell_type": "code",
      "metadata": {
        "colab": {
          "base_uri": "https://localhost:8080/"
        },
        "id": "4fl31WwEb6K2",
        "outputId": "e83159ee-2029-485f-be43-5fd601dff69d"
      },
      "source": [
        "print(sumas)"
      ],
      "execution_count": 32,
      "outputs": [
        {
          "output_type": "stream",
          "text": [
            "[257.0, 382.0, 439.0, 414.0]\n"
          ],
          "name": "stdout"
        }
      ]
    }
  ]
}