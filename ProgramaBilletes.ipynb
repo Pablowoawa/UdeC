{
 "cells": [
  {
   "cell_type": "code",
   "execution_count": 3,
   "metadata": {},
   "outputs": [
    {
     "name": "stdout",
     "output_type": "stream",
     "text": [
      "Ingrese el precio del producto5000\n",
      "Solo aceptamos billetes de 2000, 1000, y monedas de 500, 100 y 50\n",
      "Ponga los billetes en la máquina por favor1000000000\n",
      "Solo aceptamos billetes de 2000, 1000, y monedas de 500, 100 y 50, no insista\n",
      "Ponga los billetes en la máquina por favora\n"
     ]
    },
    {
     "ename": "ValueError",
     "evalue": "invalid literal for int() with base 10: 'a'",
     "output_type": "error",
     "traceback": [
      "\u001b[1;31m---------------------------------------------------------------------------\u001b[0m",
      "\u001b[1;31mValueError\u001b[0m                                Traceback (most recent call last)",
      "\u001b[1;32m<ipython-input-3-9366d802023a>\u001b[0m in \u001b[0;36m<module>\u001b[1;34m\u001b[0m\n\u001b[0;32m     10\u001b[0m     \u001b[1;32mwhile\u001b[0m \u001b[0mbilletes\u001b[0m \u001b[1;32mnot\u001b[0m \u001b[1;32min\u001b[0m \u001b[0mbilletes_aceptados\u001b[0m\u001b[1;33m:\u001b[0m\u001b[1;33m\u001b[0m\u001b[1;33m\u001b[0m\u001b[0m\n\u001b[0;32m     11\u001b[0m         \u001b[0mprint\u001b[0m\u001b[1;33m(\u001b[0m\u001b[1;34m'Solo aceptamos billetes de 2000, 1000, y monedas de 500, 100 y 50, no insista'\u001b[0m\u001b[1;33m)\u001b[0m\u001b[1;33m\u001b[0m\u001b[1;33m\u001b[0m\u001b[0m\n\u001b[1;32m---> 12\u001b[1;33m         \u001b[0mbilletes\u001b[0m \u001b[1;33m=\u001b[0m \u001b[0mint\u001b[0m\u001b[1;33m(\u001b[0m\u001b[0minput\u001b[0m\u001b[1;33m(\u001b[0m\u001b[1;34m'Ponga los billetes en la máquina por favor'\u001b[0m\u001b[1;33m)\u001b[0m\u001b[1;33m)\u001b[0m\u001b[1;33m\u001b[0m\u001b[1;33m\u001b[0m\u001b[0m\n\u001b[0m\u001b[0;32m     13\u001b[0m \u001b[1;33m\u001b[0m\u001b[0m\n\u001b[0;32m     14\u001b[0m     \u001b[0msuma_billetes\u001b[0m \u001b[1;33m=\u001b[0m \u001b[0msuma_billetes\u001b[0m \u001b[1;33m+\u001b[0m \u001b[0mbilletes\u001b[0m\u001b[1;33m\u001b[0m\u001b[1;33m\u001b[0m\u001b[0m\n",
      "\u001b[1;31mValueError\u001b[0m: invalid literal for int() with base 10: 'a'"
     ]
    }
   ],
   "source": [
    "precio_producto = int(input('Ingrese el precio del producto'))\n",
    "while precio_producto%50!=0:\n",
    "    print('El precio tiene que ser multiplo de 50')\n",
    "    precio_producto = int(input('Ingrese el precio del producto'))\n",
    "suma_billetes = 0\n",
    "billetes_aceptados = [2000,1000,500,100,50]\n",
    "while suma_billetes<precio_producto:\n",
    "    print('Solo aceptamos billetes de 2000, 1000, y monedas de 500, 100 y 50')\n",
    "    billetes = int(input('Ponga los billetes en la máquina por favor'))\n",
    "    while billetes not in billetes_aceptados:\n",
    "        print('Solo aceptamos billetes de 2000, 1000, y monedas de 500, 100 y 50, no insista')\n",
    "        billetes = int(input('Ponga los billetes en la máquina por favor'))\n",
    "       \n",
    "    suma_billetes = suma_billetes + billetes\n",
    "\n",
    "print('Usted pagó con: $'+str(suma_billetes))\n",
    "\n",
    "vuelto = suma_billetes - precio_producto\n",
    "\n",
    "#Determinando el vuelto:\n",
    "vuelto_en_moneda = 0\n",
    "n2000 = 0\n",
    "n1000 = 0\n",
    "n500 = 0\n",
    "n100 = 0\n",
    "n50 = 0\n",
    "\n",
    "lista_vueltos = [n2000,n1000,n500,n100,n50]\n",
    "i=0\n",
    "\n",
    "while i!= (len(billetes_aceptados)):\n",
    "    if billetes_aceptados[i]<=vuelto:\n",
    "        lista_vueltos[i] = lista_vueltos[i] + 1\n",
    "        vuelto = vuelto - billetes_aceptados[i]\n",
    "    else:\n",
    "        i = i+1\n",
    "\n",
    "for i in range(len(lista_vueltos)):\n",
    "    if lista_vueltos[i]!=0:\n",
    "        print(str(lista_vueltos[i])+'-'+str(billetes_aceptados[i]), end=' ')\n",
    "\n",
    "if lista_vueltos == [0,0,0,0,0]:\n",
    "    print('0')"
   ]
  },
  {
   "cell_type": "code",
   "execution_count": null,
   "metadata": {},
   "outputs": [],
   "source": []
  }
 ],
 "metadata": {
  "kernelspec": {
   "display_name": "Python 3",
   "language": "python",
   "name": "python3"
  },
  "language_info": {
   "codemirror_mode": {
    "name": "ipython",
    "version": 3
   },
   "file_extension": ".py",
   "mimetype": "text/x-python",
   "name": "python",
   "nbconvert_exporter": "python",
   "pygments_lexer": "ipython3",
   "version": "3.7.1"
  }
 },
 "nbformat": 4,
 "nbformat_minor": 2
}
